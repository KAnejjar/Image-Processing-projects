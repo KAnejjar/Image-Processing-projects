{
 "cells": [
  {
   "cell_type": "code",
   "execution_count": 1,
   "id": "75caee1a",
   "metadata": {},
   "outputs": [],
   "source": [
    "import numpy as np\n",
    "import cv2"
   ]
  },
  {
   "cell_type": "code",
   "execution_count": 2,
   "id": "7d17d61a",
   "metadata": {},
   "outputs": [],
   "source": [
    "def matching_feature(im1,im2,n_matches):\n",
    "\timg1 = cv2.imread(im1, cv2.IMREAD_GRAYSCALE)\n",
    "\timg2 = cv2.imread(im2, cv2.IMREAD_GRAYSCALE)\n",
    "\n",
    "\tsift = cv2.SIFT_create()\n",
    "\n",
    "\tkeypoints1, descriptors1 = sift.detectAndCompute(img1,None)\n",
    "\tkeypoints2, descriptors2 = sift.detectAndCompute(img2,None)\n",
    "\n",
    "\t#keypoints1 = sift.detect(img1, None)\n",
    "\t#keypoints2 = sift.detect(img2, None)\n",
    "\t#bfm = cv2.BFMatcher(cv2.NORM_HAMMING, crossCheck=True)\n",
    "\t#matches = bfm.match(descriptors1, descriptors2)\n",
    "\n",
    "\tbf = cv2.BFMatcher(cv2.NORM_L1,crossCheck=False)\n",
    "\tmatches = bf.match(descriptors1,descriptors2)\n",
    "\tmatches = sorted(matches, key=lambda x:x.distance)\n",
    "\t#matching_result = cv2.drawMatches(img1, keypoints1, img2, keypoints2, matches, None, flags=2)\n",
    "\tmatching_result = cv2.drawMatches(img1, keypoints1, img2, keypoints2, matches[:n_matches], None, flags=2)\n",
    "\n",
    "\treturn matching_result"
   ]
  },
  {
   "cell_type": "code",
   "execution_count": 3,
   "id": "1912f659",
   "metadata": {},
   "outputs": [],
   "source": [
    "cards = [\"output_images/002_00.jpg\", \"output_images/002_01.jpg\", \"output_images/002_02.jpg\",\n",
    "\t\t\"output_images/002_10.jpg\", \"output_images/002_11.jpg\", \"output_images/002_12.jpg\",\n",
    "\t\t\"output_images/002_20.jpg\", \"output_images/002_21.jpg\", \"output_images/002_22.jpg\",\n",
    "\t\t\"output_images/002_30.jpg\", \"output_images/002_31.jpg\", \"output_images/002_32.jpg\",\n",
    "\t\t\"output_images/002_40.jpg\", \"output_images/002_41.jpg\", \"output_images/002_42.jpg\",\n",
    "\t\t\"output_images/002_50.jpg\", \"output_images/002_51.jpg\", \"output_images/002_52.jpg\",\n",
    "\t\t\"output_images/003_00.jpg\", \"output_images/003_01.jpg\", \"output_images/003_02.jpg\",\n",
    "\t\t\"output_images/003_10.jpg\", \"output_images/003_11.jpg\", \"output_images/003_12.jpg\",\n",
    "\t\t\"output_images/003_20.jpg\", \"output_images/003_21.jpg\", \"output_images/003_22.jpg\",\n",
    "\t\t\"output_images/003_30.jpg\", \"output_images/003_31.jpg\", \"output_images/003_32.jpg\",\n",
    "\t\t\"output_images/003_40.jpg\", \"output_images/003_41.jpg\", \"output_images/003_42.jpg\",\n",
    "\t\t\"output_images/003_50.jpg\", \"output_images/003_51.jpg\", \"output_images/003_52.jpg\",\n",
    "\t\t\"output_images/004_00.jpg\", \"output_images/004_01.jpg\", \"output_images/004_02.jpg\",\n",
    "\t\t\"output_images/004_10.jpg\", \"output_images/004_11.jpg\", \"output_images/004_12.jpg\",\n",
    "\t\t\"output_images/004_20.jpg\", \"output_images/004_21.jpg\", \"output_images/004_22.jpg\",\n",
    "\t\t\"output_images/004_30.jpg\", \"output_images/004_31.jpg\", \"output_images/004_32.jpg\",\n",
    "\t\t\"output_images/004_40.jpg\", \"output_images/004_41.jpg\", \"output_images/004_42.jpg\",\n",
    "\t\t\"output_images/004_50.jpg\", \"output_images/004_51.jpg\", \"output_images/004_52.jpg\"]"
   ]
  },
  {
   "cell_type": "code",
   "execution_count": 4,
   "id": "abe42623",
   "metadata": {},
   "outputs": [],
   "source": [
    "unidentified = ['DATA/unidentified1.jpg','DATA/unidentified2.jpg','DATA/unidentified3.jpg',\n",
    "\t\t\t\t'DATA/unidentified4.jpg','DATA/unidentified5.jpg','DATA/unidentified6.jpg',\n",
    "\t\t\t\t'DATA/unidentified7.jpg','DATA/unidentified8.jpg','DATA/unidentified9.jpg',\n",
    "\t\t\t\t'DATA/unidentified10.jpg','DATA/unidentified11.jpg','DATA/unidentified12.jpg',\n",
    "\t\t\t\t'DATA/unidentified13.jpg','DATA/unidentified14.jpg','DATA/unidentified15.jpg',\n",
    "\t\t\t\t'DATA/unidentified16.jpg']"
   ]
  },
  {
   "cell_type": "code",
   "execution_count": null,
   "id": "3f493722",
   "metadata": {},
   "outputs": [
    {
     "name": "stdout",
     "output_type": "stream",
     "text": [
      "matching DATA/unidentified1.jpg and output_images/002_00.jpg done\n"
     ]
    }
   ],
   "source": [
    "for unident in unidentified:\n",
    "\tfor card in cards:\n",
    "\t\tmatching_result  = matching_feature(unident,card,20)\n",
    "\t\tprint(\"matching {} and {} done\".format(unident,card))\n",
    "\t\tcv2.imshow(\"Matching res\", matching_result)\n",
    "\t\tcv2.waitKey(0)\n",
    "\t\tcv2.destroyAllWindows()"
   ]
  },
  {
   "cell_type": "code",
   "execution_count": 21,
   "id": "ce0eea88",
   "metadata": {},
   "outputs": [],
   "source": []
  },
  {
   "cell_type": "code",
   "execution_count": 22,
   "id": "427b2ad3",
   "metadata": {},
   "outputs": [],
   "source": []
  },
  {
   "cell_type": "code",
   "execution_count": null,
   "id": "ed962f8d",
   "metadata": {},
   "outputs": [],
   "source": []
  },
  {
   "cell_type": "code",
   "execution_count": null,
   "id": "9e9a91bb",
   "metadata": {},
   "outputs": [],
   "source": []
  }
 ],
 "metadata": {
  "kernelspec": {
   "display_name": "Python 3 (ipykernel)",
   "language": "python",
   "name": "python3"
  },
  "language_info": {
   "codemirror_mode": {
    "name": "ipython",
    "version": 3
   },
   "file_extension": ".py",
   "mimetype": "text/x-python",
   "name": "python",
   "nbconvert_exporter": "python",
   "pygments_lexer": "ipython3",
   "version": "3.9.7"
  }
 },
 "nbformat": 4,
 "nbformat_minor": 5
}
